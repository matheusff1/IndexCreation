{
 "cells": [
  {
   "cell_type": "code",
   "execution_count": 1,
   "id": "f4d94597",
   "metadata": {
    "execution": {
     "iopub.execute_input": "2024-11-08T16:38:15.811216Z",
     "iopub.status.busy": "2024-11-08T16:38:15.810678Z",
     "iopub.status.idle": "2024-11-08T16:38:15.818836Z",
     "shell.execute_reply": "2024-11-08T16:38:15.818252Z"
    },
    "papermill": {
     "duration": 0.015545,
     "end_time": "2024-11-08T16:38:15.818836",
     "exception": false,
     "start_time": "2024-11-08T16:38:15.803291",
     "status": "completed"
    },
    "tags": [
     "parameters"
    ]
   },
   "outputs": [],
   "source": [
    "#path das planilhas que serão utilizadas\n",
    "criteria_path = 'df_delta50_comm.xlsx'\n",
    "forindex_path = 'df_delta50_comm.xlsx'\n",
    "#nome da sheet, se necessário\n",
    "criteria_sheet = 'delta_50'\n",
    "forindex_sheet = 'prices'\n",
    "#comprar o que está acima do último quartil e vender e que está abaixo do primeiro\n",
    "# / \n",
    "#comprar o que está abaixo do primeiro e vender o que está acima do último\n",
    "method='<'\n",
    "#percentil, ex: 4 para quartis\n",
    "quantils=4\n",
    "#date column name\n",
    "dc_name = 'date'"
   ]
  },
  {
   "cell_type": "code",
   "execution_count": 2,
   "id": "9ac74ce7",
   "metadata": {
    "execution": {
     "iopub.execute_input": "2024-11-08T16:38:15.818836Z",
     "iopub.status.busy": "2024-11-08T16:38:15.818836Z",
     "iopub.status.idle": "2024-11-08T16:38:15.831806Z",
     "shell.execute_reply": "2024-11-08T16:38:15.831806Z"
    },
    "papermill": {
     "duration": 0.01297,
     "end_time": "2024-11-08T16:38:15.831806",
     "exception": false,
     "start_time": "2024-11-08T16:38:15.818836",
     "status": "completed"
    },
    "tags": [
     "injected-parameters"
    ]
   },
   "outputs": [],
   "source": [
    "# Parameters\n",
    "criteria_path = \"df_delta50_comm.xlsx\"\n",
    "forindex_path = \"df_Delta50_comm.xlsx\"\n",
    "criteria_sheet = \"delta_50\"\n",
    "forindex_sheet = \"prices\"\n",
    "method = \"<\"\n",
    "quantils = 8\n",
    "dc_name = \"date\"\n"
   ]
  },
  {
   "cell_type": "code",
   "execution_count": 3,
   "id": "9f578319",
   "metadata": {
    "execution": {
     "iopub.execute_input": "2024-11-08T16:38:15.834815Z",
     "iopub.status.busy": "2024-11-08T16:38:15.834815Z",
     "iopub.status.idle": "2024-11-08T16:38:16.390405Z",
     "shell.execute_reply": "2024-11-08T16:38:16.390405Z"
    },
    "papermill": {
     "duration": 0.55559,
     "end_time": "2024-11-08T16:38:16.390405",
     "exception": false,
     "start_time": "2024-11-08T16:38:15.834815",
     "status": "completed"
    },
    "tags": []
   },
   "outputs": [],
   "source": [
    "import pandas as pd\n",
    "import numpy as np\n",
    "import matplotlib.pyplot as plt\n"
   ]
  },
  {
   "cell_type": "code",
   "execution_count": 4,
   "id": "17caa5a9",
   "metadata": {
    "execution": {
     "iopub.execute_input": "2024-11-08T16:38:16.390405Z",
     "iopub.status.busy": "2024-11-08T16:38:16.390405Z",
     "iopub.status.idle": "2024-11-08T16:38:16.445919Z",
     "shell.execute_reply": "2024-11-08T16:38:16.445919Z"
    },
    "papermill": {
     "duration": 0.055514,
     "end_time": "2024-11-08T16:38:16.445919",
     "exception": false,
     "start_time": "2024-11-08T16:38:16.390405",
     "status": "completed"
    },
    "tags": []
   },
   "outputs": [],
   "source": [
    "def plot_variation(df,dc_name):\n",
    "    plt.figure(figsize=(12, 6))\n",
    "    plt.subplot(2, 1, 2)\n",
    "    plt.plot(df.index, df['index'], color='orange')\n",
    "    plt.title('index variation')\n",
    "    plt.xlabel(dc_name)\n",
    "    plt.ylabel('index value')\n",
    "    plt.grid()\n",
    "\n",
    "    plt.tight_layout()\n",
    "    plt.show()\n",
    "\n",
    "def generate_percentiles(percentile):\n",
    "    percentiles = [round(i * 100 / percentile, 2) / 100 for i in range(1, percentile)]\n",
    "    return percentiles\n",
    "\n",
    "\n",
    "def generate_percentiles_line(line,n):\n",
    "    p = generate_percentiles(n)\n",
    "    return np.percentile(line,p)\n",
    "\n",
    "\n",
    "def calc_index(df_criteria, df_for_index, method,n):\n",
    "    index_ = []\n",
    "\n",
    "    for date in df_criteria.index:\n",
    "        row = df_criteria.loc[date]\n",
    "        row_v = df_for_index.loc[date]\n",
    "\n",
    "        \n",
    "        count_non_zero = np.sum(row != 0)\n",
    "\n",
    "        if count_non_zero < 2:\n",
    "            continue\n",
    "        elif count_non_zero == 2:\n",
    "            p = generate_percentiles_line(row, 2)\n",
    "        elif 2 < count_non_zero < n:\n",
    "            p = generate_percentiles_line(row, count_non_zero-1)\n",
    "        else:  \n",
    "            p = generate_percentiles_line(row, n)\n",
    "\n",
    "        lte = 0\n",
    "        gte = 0\n",
    "        \n",
    "        lte = np.sum(row_v[(row <= p[0]) & (row != 0)])\n",
    "        gte = np.sum(row_v[row >= p[-1]])\n",
    "\n",
    "        if method == '>':\n",
    "            index = lte - gte\n",
    "        elif method == '<':\n",
    "            index = gte - lte\n",
    "\n",
    "        index_.append({'date': date, 'index': index})\n",
    "        \n",
    "\n",
    "    df_index = pd.DataFrame(index_).set_index('date')\n",
    "    \n",
    "    return df_index\n",
    "\n",
    "def calculate_index(df_index):\n",
    "    index = pd.DataFrame()\n",
    "    index['date'] = df_index.index\n",
    "    \n",
    "    log_return = np.diff(np.log(df_index['index']))\n",
    "\n",
    "    log_return = np.cumsum(log_return)\n",
    "\n",
    "    log_return = np.insert(log_return,0,0)\n",
    "\n",
    "    index['index'] = log_return\n",
    "\n",
    "    return index.set_index('date')\n",
    "\n",
    "##def generate_adjusteds_dfs(criteria,df,torows,tocolumns,toindex):\n",
    "    df_c = pd.pivot_table(df,values=criteria,index=torows,columns=tocolumns)\n",
    "    df_c = df_c.fillna(0)\n",
    "    df_p = pd.pivot_table(df,values=toindex,index=torows,columns=tocolumns)\n",
    "    df_p = df_p.fillna(0)\n",
    "    return df_c,df_p\n",
    "\n",
    "\n",
    "def return_index_df(method,df_for_index,df_criteria,n,dc_name):\n",
    "    print(df_criteria.columns)\n",
    "    df_for_index = df_for_index.set_index(dc_name)\n",
    "    df_criteria = df_criteria.set_index(dc_name)\n",
    "    res_df = calc_index(df_criteria=df_criteria,df_for_index=df_for_index,method=method,n=n)\n",
    "    return calculate_index(res_df)\n"
   ]
  },
  {
   "cell_type": "code",
   "execution_count": 5,
   "id": "d2fe8682",
   "metadata": {
    "execution": {
     "iopub.execute_input": "2024-11-08T16:38:16.445919Z",
     "iopub.status.busy": "2024-11-08T16:38:16.445919Z",
     "iopub.status.idle": "2024-11-08T16:38:16.456828Z",
     "shell.execute_reply": "2024-11-08T16:38:16.456027Z"
    },
    "papermill": {
     "duration": 0.011916,
     "end_time": "2024-11-08T16:38:16.457835",
     "exception": false,
     "start_time": "2024-11-08T16:38:16.445919",
     "status": "completed"
    },
    "tags": []
   },
   "outputs": [
    {
     "name": "stdout",
     "output_type": "stream",
     "text": [
      "QUANTIS: 8\n"
     ]
    }
   ],
   "source": [
    "print(f'QUANTIS: {quantils}')"
   ]
  },
  {
   "cell_type": "code",
   "execution_count": 6,
   "id": "35a7ef2d",
   "metadata": {
    "execution": {
     "iopub.execute_input": "2024-11-08T16:38:16.461834Z",
     "iopub.status.busy": "2024-11-08T16:38:16.461834Z",
     "iopub.status.idle": "2024-11-08T16:38:19.365160Z",
     "shell.execute_reply": "2024-11-08T16:38:19.365160Z"
    },
    "papermill": {
     "duration": 2.906326,
     "end_time": "2024-11-08T16:38:19.365160",
     "exception": false,
     "start_time": "2024-11-08T16:38:16.458834",
     "status": "completed"
    },
    "tags": []
   },
   "outputs": [],
   "source": [
    "df_criteria  = pd.read_excel(criteria_path,sheet_name=criteria_sheet)\n",
    "df_forindex = pd.read_excel(forindex_path,sheet_name=forindex_sheet)"
   ]
  },
  {
   "cell_type": "code",
   "execution_count": 7,
   "id": "03c2cfce",
   "metadata": {
    "execution": {
     "iopub.execute_input": "2024-11-08T16:38:19.370175Z",
     "iopub.status.busy": "2024-11-08T16:38:19.370175Z",
     "iopub.status.idle": "2024-11-08T16:38:21.375068Z",
     "shell.execute_reply": "2024-11-08T16:38:21.375068Z"
    },
    "papermill": {
     "duration": 2.009908,
     "end_time": "2024-11-08T16:38:21.375068",
     "exception": false,
     "start_time": "2024-11-08T16:38:19.365160",
     "status": "completed"
    },
    "tags": []
   },
   "outputs": [
    {
     "name": "stdout",
     "output_type": "stream",
     "text": [
      "Index(['date', 'C 1', 'C 2', 'CC1', 'CC2', 'CL1', 'CL2', 'CT1', 'CT2', 'GC1',\n",
      "       'GC2', 'HG1', 'HG2', 'KC1', 'KC2', 'LE1', 'LE2', 'NG1', 'NG2', 'RB1',\n",
      "       'RB2', 'S 1', 'S 2', 'SB1', 'SB2', 'W 1', 'W 2'],\n",
      "      dtype='object')\n"
     ]
    }
   ],
   "source": [
    "index_df = return_index_df(method=method,df_for_index=df_forindex,df_criteria=df_criteria,n=quantils,dc_name=dc_name)"
   ]
  },
  {
   "cell_type": "code",
   "execution_count": 8,
   "id": "a37bc817",
   "metadata": {
    "execution": {
     "iopub.execute_input": "2024-11-08T16:38:21.375068Z",
     "iopub.status.busy": "2024-11-08T16:38:21.375068Z",
     "iopub.status.idle": "2024-11-08T16:38:21.540322Z",
     "shell.execute_reply": "2024-11-08T16:38:21.540322Z"
    },
    "notebookRunGroups": {
     "groupValue": "2"
    },
    "papermill": {
     "duration": 0.165254,
     "end_time": "2024-11-08T16:38:21.540322",
     "exception": false,
     "start_time": "2024-11-08T16:38:21.375068",
     "status": "completed"
    },
    "tags": []
   },
   "outputs": [
    {
     "data": {
      "image/png": "[encoded data removed]",
      "text/plain": [
       "<Figure size 1200x600 with 1 Axes>"
      ]
     },
     "metadata": {},
     "output_type": "display_data"
    }
   ],
   "source": [
    "plot_variation(index_df,dc_name)"
   ]
  },
  {
   "cell_type": "code",
   "execution_count": 9,
   "id": "486b628f",
   "metadata": {
    "execution": {
     "iopub.execute_input": "2024-11-08T16:38:21.540322Z",
     "iopub.status.busy": "2024-11-08T16:38:21.540322Z",
     "iopub.status.idle": "2024-11-08T16:38:21.782257Z",
     "shell.execute_reply": "2024-11-08T16:38:21.782257Z"
    },
    "papermill": {
     "duration": 0.241935,
     "end_time": "2024-11-08T16:38:21.782257",
     "exception": false,
     "start_time": "2024-11-08T16:38:21.540322",
     "status": "completed"
    },
    "tags": []
   },
   "outputs": [],
   "source": [
    "index_df.to_excel(f\"outputs/result-{criteria_sheet}-{forindex_sheet}.xlsx\")"
   ]
  }
 ],
 "metadata": {
  "kernelspec": {
   "display_name": "Python 3",
   "language": "python",
   "name": "python3"
  },
  "language_info": {
   "codemirror_mode": {
    "name": "ipython",
    "version": 3
   },
   "file_extension": ".py",
   "mimetype": "text/x-python",
   "name": "python",
   "nbconvert_exporter": "python",
   "pygments_lexer": "ipython3",
   "version": "3.11.9"
  },
  "papermill": {
   "default_parameters": {},
   "duration": 10.453581,
   "end_time": "2024-11-08T16:38:24.618768",
   "environment_variables": {},
   "exception": null,
   "input_path": "IndexCreationByQuantils.ipynb",
   "output_path": "outputs\\Execução delta_50-prices.ipynb",
   "parameters": {
    "criteria_path": "df_delta50_comm.xlsx",
    "criteria_sheet": "delta_50",
    "dc_name": "date",
    "forindex_path": "df_Delta50_comm.xlsx",
    "forindex_sheet": "prices",
    "method": "<",
    "quantils": 8
   },
   "start_time": "2024-11-08T16:38:14.165187",
   "version": "2.6.0"
  }
 },
 "nbformat": 4,
 "nbformat_minor": 5
}
